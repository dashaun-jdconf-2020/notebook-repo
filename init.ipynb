{
 "cells": [
  {
   "cell_type": "code",
   "execution_count": null,
   "metadata": {},
   "outputs": [],
   "source": [
    "source .envrc"
   ]
  },
  {
   "cell_type": "code",
   "execution_count": null,
   "metadata": {},
   "outputs": [],
   "source": [
    "az group create --name $AZ_RESOURCE_GROUP --location $AZ_RESOURCE_GROUP_LOCATION --tags owner=$AZ_OWNER_TAG"
   ]
  },
  {
   "cell_type": "code",
   "execution_count": null,
   "metadata": {},
   "outputs": [],
   "source": [
    "az spring-cloud create -g $AZ_RESOURCE_GROUP -n $AZ_SPRING_CLOUD_NAME --sku standard"
   ]
  },
  {
   "cell_type": "code",
   "execution_count": null,
   "metadata": {},
   "outputs": [],
   "source": [
    "az configure --defaults group=$AZ_RESOURCE_GROUP\n",
    "az configure --defaults spring-cloud=$AZ_SPRING_CLOUD_NAME\n",
    "az configure --defaults location=$AZ_RESOURCE_GROUP_LOCATION"
   ]
  },
  {
   "cell_type": "code",
   "execution_count": null,
   "metadata": {},
   "outputs": [],
   "source": [
    "az spring-cloud app create -n jdconf2020-redis --is-public true --runtime-version JAVA_11"
   ]
  },
  {
   "cell_type": "code",
   "execution_count": null,
   "metadata": {},
   "outputs": [],
   "source": [
    "az redis create --name $AZ_REDIS_BASIC --sku $AZ_REDIS_BASIC_SKU --vm-size $AZ_REDIS_BASIC_VM"
   ]
  },
  {
   "cell_type": "code",
   "execution_count": null,
   "metadata": {},
   "outputs": [],
   "source": [
    "az spring-cloud config-server git set --name $AZ_SPRING_CLOUD_NAME --uri $GIT_CONFIG_REPO"
   ]
  },
  {
   "cell_type": "code",
   "execution_count": null,
   "metadata": {},
   "outputs": [],
   "source": [
    "az spring-cloud app binding redis add \\\n",
    "--app jdconf2020-redis \\\n",
    "--name $AZ_REDIS_BASIC \\\n",
    "--resource-id $(az redis show --name $AZ_REDIS_BASIC | jq -r .id)"
   ]
  }
 ],
 "metadata": {
  "kernelspec": {
   "display_name": "Bash",
   "language": "bash",
   "name": "bash"
  },
  "language_info": {
   "codemirror_mode": "shell",
   "file_extension": ".sh",
   "mimetype": "text/x-sh",
   "name": "bash"
  }
 },
 "nbformat": 4,
 "nbformat_minor": 4
}
